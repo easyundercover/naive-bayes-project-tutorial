{
  "cells": [
    {
      "cell_type": "code",
      "execution_count": 10,
      "metadata": {
        "colab": {
          "base_uri": "https://localhost:8080/"
        },
        "id": "2Lpm9gqvvI2v",
        "outputId": "d8767274-922f-4ad0-844c-7e3b9c53c5ea"
      },
      "outputs": [
        {
          "ename": "ModuleNotFoundError",
          "evalue": "No module named 'pandas'",
          "output_type": "error",
          "traceback": [
            "\u001b[0;31m---------------------------------------------------------------------------\u001b[0m",
            "\u001b[0;31mModuleNotFoundError\u001b[0m                       Traceback (most recent call last)",
            "\u001b[1;32m/workspace/naive-bayes-project-tutorial/src/naivebayes.ipynb Cell 1\u001b[0m in \u001b[0;36m<cell line: 1>\u001b[0;34m()\u001b[0m\n\u001b[0;32m----> <a href='vscode-notebook-cell://easyunderco-naivebayesp-6158kfa66te.ws-us54.gitpod.io/workspace/naive-bayes-project-tutorial/src/naivebayes.ipynb#ch0000000vscode-remote?line=0'>1</a>\u001b[0m \u001b[39mimport\u001b[39;00m \u001b[39mpandas\u001b[39;00m \u001b[39mas\u001b[39;00m \u001b[39mpd\u001b[39;00m\n\u001b[1;32m      <a href='vscode-notebook-cell://easyunderco-naivebayesp-6158kfa66te.ws-us54.gitpod.io/workspace/naive-bayes-project-tutorial/src/naivebayes.ipynb#ch0000000vscode-remote?line=1'>2</a>\u001b[0m \u001b[39mimport\u001b[39;00m \u001b[39mnumpy\u001b[39;00m \u001b[39mas\u001b[39;00m \u001b[39mnp\u001b[39;00m\n\u001b[1;32m      <a href='vscode-notebook-cell://easyunderco-naivebayesp-6158kfa66te.ws-us54.gitpod.io/workspace/naive-bayes-project-tutorial/src/naivebayes.ipynb#ch0000000vscode-remote?line=2'>3</a>\u001b[0m \u001b[39mimport\u001b[39;00m \u001b[39msys\u001b[39;00m\n",
            "\u001b[0;31mModuleNotFoundError\u001b[0m: No module named 'pandas'"
          ]
        }
      ],
      "source": [
        "import pandas as pd\n",
        "import numpy as np\n",
        "import sys\n",
        "import pickle\n",
        "import nltk\n",
        "nltk.download('stopwords')\n",
        "from nltk.corpus import stopwords\n",
        "from sklearn.model_selection import train_test_split\n",
        "from sklearn.feature_extraction.text import CountVectorizer\n",
        "from sklearn.pipeline import Pipeline\n",
        "from sklearn.feature_extraction.text import TfidfVectorizer\n",
        "from sklearn.feature_extraction.text import TfidfTransformer\n",
        "from sklearn.naive_bayes import MultinomialNB\n",
        "from sklearn import metrics\n",
        "from sklearn.metrics import classification_report\n",
        "from sklearn.metrics import accuracy_score\n",
        "from sklearn.model_selection import RandomizedSearchCV\n"
      ]
    },
    {
      "cell_type": "code",
      "execution_count": 87,
      "metadata": {
        "id": "3fF6d34NvOdH"
      },
      "outputs": [],
      "source": [
        "df_raw = pd.read_csv('https://raw.githubusercontent.com/4GeeksAcademy/naive-bayes-project-tutorial/main/playstore_reviews_dataset.csv')"
      ]
    },
    {
      "cell_type": "code",
      "execution_count": 88,
      "metadata": {
        "colab": {
          "base_uri": "https://localhost:8080/"
        },
        "id": "7_dktTKGvPX4",
        "outputId": "c8629236-8ec5-4eb6-eec7-f17ca1c14af4"
      },
      "outputs": [
        {
          "name": "stdout",
          "output_type": "stream",
          "text": [
            "<class 'pandas.core.frame.DataFrame'>\n",
            "RangeIndex: 891 entries, 0 to 890\n",
            "Data columns (total 3 columns):\n",
            " #   Column        Non-Null Count  Dtype \n",
            "---  ------        --------------  ----- \n",
            " 0   package_name  891 non-null    object\n",
            " 1   review        891 non-null    object\n",
            " 2   polarity      891 non-null    int64 \n",
            "dtypes: int64(1), object(2)\n",
            "memory usage: 21.0+ KB\n"
          ]
        }
      ],
      "source": [
        "df_raw.info()"
      ]
    },
    {
      "cell_type": "code",
      "execution_count": 89,
      "metadata": {
        "colab": {
          "base_uri": "https://localhost:8080/",
          "height": 363
        },
        "id": "0vrGeKWHvRhx",
        "outputId": "ca39c4bc-3ae5-4d51-908b-2eb361c7eabf"
      },
      "outputs": [
        {
          "data": {
            "text/html": [
              "\n",
              "  <div id=\"df-e2c69897-6140-4c87-abeb-1ed1f7c945c8\">\n",
              "    <div class=\"colab-df-container\">\n",
              "      <div>\n",
              "<style scoped>\n",
              "    .dataframe tbody tr th:only-of-type {\n",
              "        vertical-align: middle;\n",
              "    }\n",
              "\n",
              "    .dataframe tbody tr th {\n",
              "        vertical-align: top;\n",
              "    }\n",
              "\n",
              "    .dataframe thead th {\n",
              "        text-align: right;\n",
              "    }\n",
              "</style>\n",
              "<table border=\"1\" class=\"dataframe\">\n",
              "  <thead>\n",
              "    <tr style=\"text-align: right;\">\n",
              "      <th></th>\n",
              "      <th>package_name</th>\n",
              "      <th>review</th>\n",
              "      <th>polarity</th>\n",
              "    </tr>\n",
              "  </thead>\n",
              "  <tbody>\n",
              "    <tr>\n",
              "      <th>423</th>\n",
              "      <td>com.facebook.orca</td>\n",
              "      <td>unfollow tool does not function unfollow cont...</td>\n",
              "      <td>0</td>\n",
              "    </tr>\n",
              "    <tr>\n",
              "      <th>353</th>\n",
              "      <td>com.viber.voip</td>\n",
              "      <td>excellent reception amazing app that lets you...</td>\n",
              "      <td>1</td>\n",
              "    </tr>\n",
              "    <tr>\n",
              "      <th>775</th>\n",
              "      <td>org.mozilla.firefox</td>\n",
              "      <td>doesn't allow me to send tab to desktop previ...</td>\n",
              "      <td>0</td>\n",
              "    </tr>\n",
              "    <tr>\n",
              "      <th>370</th>\n",
              "      <td>com.google.android.talk</td>\n",
              "      <td>it was okay, but now complete crap why do one...</td>\n",
              "      <td>0</td>\n",
              "    </tr>\n",
              "    <tr>\n",
              "      <th>458</th>\n",
              "      <td>com.whatsapp</td>\n",
              "      <td>what's app is not in it's format in my mobil...</td>\n",
              "      <td>0</td>\n",
              "    </tr>\n",
              "    <tr>\n",
              "      <th>534</th>\n",
              "      <td>com.dropbox.android</td>\n",
              "      <td>i love dropbox...but.. i wish that the inter...</td>\n",
              "      <td>1</td>\n",
              "    </tr>\n",
              "    <tr>\n",
              "      <th>100</th>\n",
              "      <td>com.linkedin.android</td>\n",
              "      <td>down to 1 star after backward redesign this a...</td>\n",
              "      <td>0</td>\n",
              "    </tr>\n",
              "    <tr>\n",
              "      <th>498</th>\n",
              "      <td>com.Slack</td>\n",
              "      <td>tablet support any chance of getting tablet s...</td>\n",
              "      <td>0</td>\n",
              "    </tr>\n",
              "    <tr>\n",
              "      <th>105</th>\n",
              "      <td>com.linkedin.android</td>\n",
              "      <td>it is fine.. and getting better.. working qui...</td>\n",
              "      <td>1</td>\n",
              "    </tr>\n",
              "    <tr>\n",
              "      <th>149</th>\n",
              "      <td>com.king.candycrushsaga</td>\n",
              "      <td>not able to play, automatic closing since las...</td>\n",
              "      <td>0</td>\n",
              "    </tr>\n",
              "  </tbody>\n",
              "</table>\n",
              "</div>\n",
              "      <button class=\"colab-df-convert\" onclick=\"convertToInteractive('df-e2c69897-6140-4c87-abeb-1ed1f7c945c8')\"\n",
              "              title=\"Convert this dataframe to an interactive table.\"\n",
              "              style=\"display:none;\">\n",
              "        \n",
              "  <svg xmlns=\"http://www.w3.org/2000/svg\" height=\"24px\"viewBox=\"0 0 24 24\"\n",
              "       width=\"24px\">\n",
              "    <path d=\"M0 0h24v24H0V0z\" fill=\"none\"/>\n",
              "    <path d=\"M18.56 5.44l.94 2.06.94-2.06 2.06-.94-2.06-.94-.94-2.06-.94 2.06-2.06.94zm-11 1L8.5 8.5l.94-2.06 2.06-.94-2.06-.94L8.5 2.5l-.94 2.06-2.06.94zm10 10l.94 2.06.94-2.06 2.06-.94-2.06-.94-.94-2.06-.94 2.06-2.06.94z\"/><path d=\"M17.41 7.96l-1.37-1.37c-.4-.4-.92-.59-1.43-.59-.52 0-1.04.2-1.43.59L10.3 9.45l-7.72 7.72c-.78.78-.78 2.05 0 2.83L4 21.41c.39.39.9.59 1.41.59.51 0 1.02-.2 1.41-.59l7.78-7.78 2.81-2.81c.8-.78.8-2.07 0-2.86zM5.41 20L4 18.59l7.72-7.72 1.47 1.35L5.41 20z\"/>\n",
              "  </svg>\n",
              "      </button>\n",
              "      \n",
              "  <style>\n",
              "    .colab-df-container {\n",
              "      display:flex;\n",
              "      flex-wrap:wrap;\n",
              "      gap: 12px;\n",
              "    }\n",
              "\n",
              "    .colab-df-convert {\n",
              "      background-color: #E8F0FE;\n",
              "      border: none;\n",
              "      border-radius: 50%;\n",
              "      cursor: pointer;\n",
              "      display: none;\n",
              "      fill: #1967D2;\n",
              "      height: 32px;\n",
              "      padding: 0 0 0 0;\n",
              "      width: 32px;\n",
              "    }\n",
              "\n",
              "    .colab-df-convert:hover {\n",
              "      background-color: #E2EBFA;\n",
              "      box-shadow: 0px 1px 2px rgba(60, 64, 67, 0.3), 0px 1px 3px 1px rgba(60, 64, 67, 0.15);\n",
              "      fill: #174EA6;\n",
              "    }\n",
              "\n",
              "    [theme=dark] .colab-df-convert {\n",
              "      background-color: #3B4455;\n",
              "      fill: #D2E3FC;\n",
              "    }\n",
              "\n",
              "    [theme=dark] .colab-df-convert:hover {\n",
              "      background-color: #434B5C;\n",
              "      box-shadow: 0px 1px 3px 1px rgba(0, 0, 0, 0.15);\n",
              "      filter: drop-shadow(0px 1px 2px rgba(0, 0, 0, 0.3));\n",
              "      fill: #FFFFFF;\n",
              "    }\n",
              "  </style>\n",
              "\n",
              "      <script>\n",
              "        const buttonEl =\n",
              "          document.querySelector('#df-e2c69897-6140-4c87-abeb-1ed1f7c945c8 button.colab-df-convert');\n",
              "        buttonEl.style.display =\n",
              "          google.colab.kernel.accessAllowed ? 'block' : 'none';\n",
              "\n",
              "        async function convertToInteractive(key) {\n",
              "          const element = document.querySelector('#df-e2c69897-6140-4c87-abeb-1ed1f7c945c8');\n",
              "          const dataTable =\n",
              "            await google.colab.kernel.invokeFunction('convertToInteractive',\n",
              "                                                     [key], {});\n",
              "          if (!dataTable) return;\n",
              "\n",
              "          const docLinkHtml = 'Like what you see? Visit the ' +\n",
              "            '<a target=\"_blank\" href=https://colab.research.google.com/notebooks/data_table.ipynb>data table notebook</a>'\n",
              "            + ' to learn more about interactive tables.';\n",
              "          element.innerHTML = '';\n",
              "          dataTable['output_type'] = 'display_data';\n",
              "          await google.colab.output.renderOutput(dataTable, element);\n",
              "          const docLink = document.createElement('div');\n",
              "          docLink.innerHTML = docLinkHtml;\n",
              "          element.appendChild(docLink);\n",
              "        }\n",
              "      </script>\n",
              "    </div>\n",
              "  </div>\n",
              "  "
            ],
            "text/plain": [
              "                package_name  \\\n",
              "423        com.facebook.orca   \n",
              "353           com.viber.voip   \n",
              "775      org.mozilla.firefox   \n",
              "370  com.google.android.talk   \n",
              "458             com.whatsapp   \n",
              "534      com.dropbox.android   \n",
              "100     com.linkedin.android   \n",
              "498                com.Slack   \n",
              "105     com.linkedin.android   \n",
              "149  com.king.candycrushsaga   \n",
              "\n",
              "                                                review  polarity  \n",
              "423   unfollow tool does not function unfollow cont...         0  \n",
              "353   excellent reception amazing app that lets you...         1  \n",
              "775   doesn't allow me to send tab to desktop previ...         0  \n",
              "370   it was okay, but now complete crap why do one...         0  \n",
              "458    what's app is not in it's format in my mobil...         0  \n",
              "534    i love dropbox...but.. i wish that the inter...         1  \n",
              "100   down to 1 star after backward redesign this a...         0  \n",
              "498   tablet support any chance of getting tablet s...         0  \n",
              "105   it is fine.. and getting better.. working qui...         1  \n",
              "149   not able to play, automatic closing since las...         0  "
            ]
          },
          "execution_count": 89,
          "metadata": {},
          "output_type": "execute_result"
        }
      ],
      "source": [
        "df_raw.sample(10)"
      ]
    },
    {
      "cell_type": "code",
      "execution_count": 90,
      "metadata": {
        "colab": {
          "base_uri": "https://localhost:8080/"
        },
        "id": "tJwg5X6Pwcgg",
        "outputId": "2837bcf1-d2ef-4a05-deab-a185a246ae0d"
      },
      "outputs": [
        {
          "data": {
            "text/plain": [
              "0    584\n",
              "1    307\n",
              "Name: polarity, dtype: int64"
            ]
          },
          "execution_count": 90,
          "metadata": {},
          "output_type": "execute_result"
        }
      ],
      "source": [
        "df_raw['polarity'].value_counts()\n",
        "#0 negativos, 1 positivo"
      ]
    },
    {
      "cell_type": "markdown",
      "metadata": {
        "id": "xZLIWVaGvvjo"
      },
      "source": [
        "**Step 1:**\n",
        "\n",
        "</br>We have three columns: package name, review and polarity (0 = bad, 1 = good) Preprocess the data by eliminating the package name column and putting all reviews in lower case."
      ]
    },
    {
      "cell_type": "code",
      "execution_count": 91,
      "metadata": {
        "id": "8Nk6zlCovXsT"
      },
      "outputs": [],
      "source": [
        "df_trans = df_raw.drop(\"package_name\", axis = 1)\n",
        "#Drops column 'package_name'"
      ]
    },
    {
      "cell_type": "code",
      "execution_count": 92,
      "metadata": {
        "id": "FGGVbTeKwkf0"
      },
      "outputs": [],
      "source": [
        "df_trans['review'] = df_trans['review'].str.lower()\n",
        "#Strings to lower case"
      ]
    },
    {
      "cell_type": "code",
      "execution_count": 93,
      "metadata": {
        "id": "lneUANO6w6uO"
      },
      "outputs": [],
      "source": [
        "df_trans['review'] = df_trans['review'].str.strip() \n",
        "#Removes leading and trailing whitespaces"
      ]
    },
    {
      "cell_type": "code",
      "execution_count": 94,
      "metadata": {
        "colab": {
          "base_uri": "https://localhost:8080/"
        },
        "id": "c2fIIerURzKA",
        "outputId": "03e6ae8f-67f1-48a3-8f50-f173e7ca5e6d"
      },
      "outputs": [
        {
          "data": {
            "text/plain": [
              "the       1293\n",
              "to        1159\n",
              "i         1084\n",
              "and        853\n",
              "it         778\n",
              "a          619\n",
              "is         555\n",
              "my         442\n",
              "this       421\n",
              "for        410\n",
              "of         390\n",
              "but        348\n",
              "in         340\n",
              "on         325\n",
              "not        318\n",
              "app        317\n",
              "you        315\n",
              "that       260\n",
              "have       252\n",
              "with       220\n",
              "so         203\n",
              "be         194\n",
              "no         186\n",
              "when       182\n",
              "if         180\n",
              "or         169\n",
              "all        163\n",
              "can        158\n",
              "as         148\n",
              "me         145\n",
              "are        139\n",
              "it's       138\n",
              "can't      137\n",
              "update     136\n",
              "new        136\n",
              "like       135\n",
              "fix        133\n",
              "please     131\n",
              "good       128\n",
              "game       121\n",
              "one        119\n",
              "use        118\n",
              "just       117\n",
              "get        112\n",
              "its        111\n",
              "very       109\n",
              "more       107\n",
              "was        104\n",
              "there      104\n",
              "don't      103\n",
              "now        102\n",
              "will       102\n",
              "even       101\n",
              "from       101\n",
              "at         100\n",
              "up          99\n",
              "great       99\n",
              "time        93\n",
              "your        90\n",
              "do          89\n",
              "dtype: int64"
            ]
          },
          "execution_count": 94,
          "metadata": {},
          "output_type": "execute_result"
        }
      ],
      "source": [
        "df_trans['review'].str.split(expand = True).stack().value_counts()[:60]"
      ]
    },
    {
      "cell_type": "code",
      "execution_count": 95,
      "metadata": {
        "id": "9mPsunUzUKGL"
      },
      "outputs": [],
      "source": [
        "#Función para retirar los stopwords\n",
        "stop = stopwords.words('english')\n",
        "\n",
        "def remove_stopwords(review):\n",
        "  if review is not None:\n",
        "    words = review.strip().split()\n",
        "    words_filtered = []\n",
        "    for word in words:\n",
        "      if word not in stop:\n",
        "        words_filtered.append(word)\n",
        "    result = \" \".join(words_filtered) #hace un join elemento por elemento separados por espacio\n",
        "  else:\n",
        "      result = None\n",
        "  return result"
      ]
    },
    {
      "cell_type": "code",
      "execution_count": 96,
      "metadata": {
        "id": "LXW7NZ1jVjv1"
      },
      "outputs": [],
      "source": [
        "df_trans['review'] = df_trans['review'].apply(remove_stopwords)"
      ]
    },
    {
      "cell_type": "code",
      "execution_count": 97,
      "metadata": {
        "colab": {
          "base_uri": "https://localhost:8080/"
        },
        "id": "YkYrAfs-WGYJ",
        "outputId": "6aaa9bb7-cffd-4d8a-8d62-523e1e7c6755"
      },
      "outputs": [
        {
          "data": {
            "text/plain": [
              "app         317\n",
              "can't       137\n",
              "new         136\n",
              "update      136\n",
              "like        135\n",
              "fix         133\n",
              "please      131\n",
              "good        128\n",
              "game        121\n",
              "one         119\n",
              "use         118\n",
              "get         112\n",
              "even        101\n",
              "great        99\n",
              "time         93\n",
              "really       82\n",
              "would        80\n",
              "back         78\n",
              "still        78\n",
              "love         77\n",
              "browser      76\n",
              "make         74\n",
              "see          69\n",
              "using        68\n",
              "work         67\n",
              "i'm          67\n",
              "5            67\n",
              "open         65\n",
              "want         64\n",
              "it.          64\n",
              "google       63\n",
              "much         61\n",
              "phone        61\n",
              "every        61\n",
              "u            58\n",
              "option       58\n",
              "version      57\n",
              "go           56\n",
              "way          56\n",
              "app.         56\n",
              "used         55\n",
              "also         55\n",
              "android      54\n",
              "download     53\n",
              "best         52\n",
              ".            51\n",
              "give         50\n",
              "better       50\n",
              "play         50\n",
              "send         49\n",
              "people       48\n",
              "able         47\n",
              "message      47\n",
              "since        46\n",
              "many         45\n",
              "keep         45\n",
              "works        44\n",
              "i've         44\n",
              "old          43\n",
              "find         43\n",
              "dtype: int64"
            ]
          },
          "execution_count": 97,
          "metadata": {},
          "output_type": "execute_result"
        }
      ],
      "source": [
        "df_trans['review'].str.split(expand = True).stack().value_counts()[:60]"
      ]
    },
    {
      "cell_type": "code",
      "execution_count": 98,
      "metadata": {
        "id": "Q34FzlKwxXXA"
      },
      "outputs": [],
      "source": [
        "df = df_trans.copy()"
      ]
    },
    {
      "cell_type": "markdown",
      "metadata": {
        "id": "vEXs9x3axQTU"
      },
      "source": [
        "**Step 2:**\n",
        "\n",
        "Separate target from feature, and split your data."
      ]
    },
    {
      "cell_type": "code",
      "execution_count": 99,
      "metadata": {
        "id": "z1gSsi70xTp4"
      },
      "outputs": [],
      "source": [
        "X = df['review']\n",
        "y = df['polarity']\n",
        "\n",
        "X_train, X_test, y_train, y_test = train_test_split(X, y, stratify = y, random_state = 25)\n",
        "#Stratify is for unbalanced datasets\n",
        "#Polarity is unbalanced (584 vs 307)"
      ]
    },
    {
      "cell_type": "markdown",
      "metadata": {
        "id": "rfmY5XfsxpXj"
      },
      "source": [
        "**Step 3:**\n",
        "\n",
        "Vectorize your features and use Naive Bayes to classify the reviews as good or bad. We will not focus on hypertuning our model this time. This was an introduction project to sentiment analysis using Naive Bayes."
      ]
    },
    {
      "cell_type": "markdown",
      "metadata": {
        "id": "hiJPaKnzbnwE"
      },
      "source": [
        "Diferentes opciones de pipeline según los preprocessing steps:"
      ]
    },
    {
      "cell_type": "markdown",
      "metadata": {
        "id": "W9uKWJoxbqrt"
      },
      "source": [
        "1. One preprocessing step (CountVectorizer) and one model step:"
      ]
    },
    {
      "cell_type": "code",
      "execution_count": 100,
      "metadata": {
        "id": "JZ8lj_kLcJuT"
      },
      "outputs": [],
      "source": [
        "clf_1 = Pipeline([('cont_vect', CountVectorizer()), ('clf', MultinomialNB())])"
      ]
    },
    {
      "cell_type": "markdown",
      "metadata": {
        "id": "8deGT1m7cQvY"
      },
      "source": [
        "2. One preprocessing step (TfidfVectorizer) and one model step:"
      ]
    },
    {
      "cell_type": "code",
      "execution_count": 101,
      "metadata": {
        "id": "NPFseHSCcQCG"
      },
      "outputs": [],
      "source": [
        "clf_2 = Pipeline([('tfidf_vect', TfidfVectorizer()), ('clf', MultinomialNB())])\n",
        "clf_2.fit(X_train, y_train)\n",
        "pred_2 = clf_2.predict(X_test)"
      ]
    },
    {
      "cell_type": "markdown",
      "metadata": {
        "id": "c4zT9VtGchK3"
      },
      "source": [
        "3. Two preprocessing steps and one model step:"
      ]
    },
    {
      "cell_type": "code",
      "execution_count": 102,
      "metadata": {
        "id": "xFTATPcpcbBa"
      },
      "outputs": [],
      "source": [
        "clf_3 = Pipeline([('vect', CountVectorizer()), ('tfidf', TfidfTransformer()), ('clf', MultinomialNB())])\n",
        "clf_3.fit(X_train, y_train)\n",
        "pred_3 = clf_3.predict(X_test)"
      ]
    },
    {
      "cell_type": "markdown",
      "metadata": {
        "id": "o8_r7QWJcvKW"
      },
      "source": [
        "Model training:"
      ]
    },
    {
      "cell_type": "code",
      "execution_count": 103,
      "metadata": {
        "colab": {
          "base_uri": "https://localhost:8080/"
        },
        "id": "jfWS9CoQczv7",
        "outputId": "b03b21f7-01dd-4170-e946-3534c47ef33f"
      },
      "outputs": [
        {
          "data": {
            "text/plain": [
              "Pipeline(steps=[('cont_vect', CountVectorizer()), ('clf', MultinomialNB())])"
            ]
          },
          "execution_count": 103,
          "metadata": {},
          "output_type": "execute_result"
        }
      ],
      "source": [
        "clf_1.fit(X_train, y_train)\n",
        "#Para la opción 1"
      ]
    },
    {
      "cell_type": "code",
      "execution_count": 104,
      "metadata": {
        "colab": {
          "base_uri": "https://localhost:8080/"
        },
        "id": "QT4Wb1FJc8Ci",
        "outputId": "833162ae-4e10-44cb-9739-7744356cd184"
      },
      "outputs": [
        {
          "data": {
            "text/plain": [
              "Pipeline(steps=[('tfidf_vect', TfidfVectorizer()), ('clf', MultinomialNB())])"
            ]
          },
          "execution_count": 104,
          "metadata": {},
          "output_type": "execute_result"
        }
      ],
      "source": [
        "clf_2.fit(X_train, y_train)\n",
        "#Para la opción 2"
      ]
    },
    {
      "cell_type": "code",
      "execution_count": 105,
      "metadata": {
        "colab": {
          "base_uri": "https://localhost:8080/"
        },
        "id": "FxG93fduc9or",
        "outputId": "69d04b48-8b58-48c2-fb2a-e68a78730f5e"
      },
      "outputs": [
        {
          "data": {
            "text/plain": [
              "Pipeline(steps=[('vect', CountVectorizer()), ('tfidf', TfidfTransformer()),\n",
              "                ('clf', MultinomialNB())])"
            ]
          },
          "execution_count": 105,
          "metadata": {},
          "output_type": "execute_result"
        }
      ],
      "source": [
        "clf_3.fit(X_train, y_train)\n",
        "#Para la opción 3"
      ]
    },
    {
      "cell_type": "markdown",
      "metadata": {
        "id": "nEKvLywNdBk3"
      },
      "source": [
        "Predictions:"
      ]
    },
    {
      "cell_type": "code",
      "execution_count": 106,
      "metadata": {
        "id": "fP5b9YkcdDab"
      },
      "outputs": [],
      "source": [
        "pred_1 = clf_1.predict(X_test)"
      ]
    },
    {
      "cell_type": "code",
      "execution_count": 107,
      "metadata": {
        "id": "o6PgAKHudFsU"
      },
      "outputs": [],
      "source": [
        "pred_2 = clf_2.predict(X_test)\n"
      ]
    },
    {
      "cell_type": "code",
      "execution_count": 108,
      "metadata": {
        "id": "nNnMAd6MdHdj"
      },
      "outputs": [],
      "source": [
        "pred_3 = clf_3.predict(X_test)"
      ]
    },
    {
      "cell_type": "markdown",
      "metadata": {
        "id": "g_vKtX8Q2EJH"
      },
      "source": [
        "* Pipeline step by step:"
      ]
    },
    {
      "cell_type": "code",
      "execution_count": 61,
      "metadata": {
        "id": "-hHIDebV1p6W"
      },
      "outputs": [],
      "source": [
        "#Opción 1:\n",
        "#vect = CountVectorizer() #Vector de conteo\n",
        "#text_vec = vect.fit_transform(X_train)\n",
        "#text_vec.toarray() #Vemos que son vectores con 0 y 1\n",
        "#Cada fila es un comentario y cada columna una palabra"
      ]
    },
    {
      "cell_type": "code",
      "execution_count": 62,
      "metadata": {
        "id": "f4nRehwf2Toc"
      },
      "outputs": [],
      "source": [
        "#vect.get_feature_names_out()\n",
        "#Muestra array con todo el vocabulario"
      ]
    },
    {
      "cell_type": "code",
      "execution_count": 63,
      "metadata": {
        "id": "hq8Y4SdE23OU"
      },
      "outputs": [],
      "source": [
        "#Opción 2:\n",
        "#tfidf = TfidfVectorizer()\n",
        "#text_tfidf = tfidf.fit_transform(X_train)\n",
        "#np.set_printoptions(threshold = sys.maxsize)\n",
        "#text_tfidf.toarray()[0] Commented bc output is too large"
      ]
    },
    {
      "cell_type": "code",
      "execution_count": 64,
      "metadata": {
        "id": "igTpMj9y6JTT"
      },
      "outputs": [],
      "source": [
        "#Opción 3:\n",
        "#text_clf = Pipeline([('vect', CountVectorizer()), ('tfidf', TfidfTransformer())])\n",
        "#text_norm = text_clf.fit_transform(X_train)"
      ]
    },
    {
      "cell_type": "code",
      "execution_count": 65,
      "metadata": {
        "id": "KcIJOhva6css"
      },
      "outputs": [],
      "source": [
        "#text_norm.toarray()[0] commented bc output is too big"
      ]
    },
    {
      "cell_type": "markdown",
      "metadata": {
        "id": "Uq6Zf5bx8_Lw"
      },
      "source": [
        "Scores:"
      ]
    },
    {
      "cell_type": "code",
      "execution_count": 109,
      "metadata": {
        "colab": {
          "base_uri": "https://localhost:8080/"
        },
        "id": "52oDOd499uBN",
        "outputId": "4f4e5409-d69c-4562-97d8-8f6a1d55bf6a"
      },
      "outputs": [
        {
          "name": "stdout",
          "output_type": "stream",
          "text": [
            "              precision    recall  f1-score   support\n",
            "\n",
            "           0       0.83      0.93      0.88       146\n",
            "           1       0.83      0.65      0.73        77\n",
            "\n",
            "    accuracy                           0.83       223\n",
            "   macro avg       0.83      0.79      0.81       223\n",
            "weighted avg       0.83      0.83      0.83       223\n",
            "\n",
            "              precision    recall  f1-score   support\n",
            "\n",
            "           0       0.71      0.99      0.83       146\n",
            "           1       0.90      0.23      0.37        77\n",
            "\n",
            "    accuracy                           0.73       223\n",
            "   macro avg       0.80      0.61      0.60       223\n",
            "weighted avg       0.78      0.73      0.67       223\n",
            "\n",
            "              precision    recall  f1-score   support\n",
            "\n",
            "           0       0.71      0.99      0.83       146\n",
            "           1       0.90      0.23      0.37        77\n",
            "\n",
            "    accuracy                           0.73       223\n",
            "   macro avg       0.80      0.61      0.60       223\n",
            "weighted avg       0.78      0.73      0.67       223\n",
            "\n"
          ]
        }
      ],
      "source": [
        "print(classification_report(y_test, pred_1)) #Al que le dio mejor es a este (0.83 accuracy)\n",
        "print(classification_report(y_test, pred_2))\n",
        "print(classification_report(y_test, pred_3))"
      ]
    },
    {
      "cell_type": "code",
      "execution_count": 110,
      "metadata": {
        "colab": {
          "base_uri": "https://localhost:8080/"
        },
        "id": "CTMfNhNt-TqT",
        "outputId": "512d654e-275c-4893-8c43-00d1f7503648"
      },
      "outputs": [
        {
          "name": "stdout",
          "output_type": "stream",
          "text": [
            "clf_1 Test Accuracy =  0.8340807174887892\n",
            "clf_2 Test Accuracy =  0.726457399103139\n",
            "clf_3 Test Accuracy =  0.726457399103139\n"
          ]
        }
      ],
      "source": [
        "print('clf_1 Test Accuracy = ', metrics.accuracy_score(y_test,pred_1))\n",
        "print('clf_2 Test Accuracy = ' , metrics.accuracy_score(y_test,pred_2))\n",
        "print('clf_3 Test Accuracy = ', metrics.accuracy_score(y_test,pred_3))"
      ]
    },
    {
      "cell_type": "markdown",
      "metadata": {
        "id": "sZ4FGl4NZ54T"
      },
      "source": [
        "Búsqueda de hiperparámetros"
      ]
    },
    {
      "cell_type": "markdown",
      "metadata": {
        "id": "Jd58K204gdt_"
      },
      "source": [
        "1. Para el modelo 1:"
      ]
    },
    {
      "cell_type": "code",
      "execution_count": 112,
      "metadata": {
        "id": "PGTwbA0jaB80"
      },
      "outputs": [],
      "source": [
        "n_iter_search = 4\n",
        "parameters = {'cont_vect__ngram_range': [(1, 1), (1, 2)], 'clf__alpha': (1e-2, 1e-3)}\n",
        "gs_clf_1 = RandomizedSearchCV(clf_1, parameters, n_iter = n_iter_search)\n",
        "gs_clf_1.fit(X_train, y_train)\n",
        "pred_1_grid = gs_clf_1.predict(X_test)"
      ]
    },
    {
      "cell_type": "code",
      "execution_count": 113,
      "metadata": {
        "colab": {
          "base_uri": "https://localhost:8080/"
        },
        "id": "27fIwGZSgTOl",
        "outputId": "bdbc2f6f-71cd-4cd6-8392-8e898311724a"
      },
      "outputs": [
        {
          "data": {
            "text/plain": [
              "{'clf__alpha': 0.01, 'cont_vect__ngram_range': (1, 2)}"
            ]
          },
          "execution_count": 113,
          "metadata": {},
          "output_type": "execute_result"
        }
      ],
      "source": [
        "gs_clf_1.best_params_"
      ]
    },
    {
      "cell_type": "markdown",
      "metadata": {
        "id": "HOPqT9pbgfMU"
      },
      "source": [
        "2. Para el modelo 2:"
      ]
    },
    {
      "cell_type": "code",
      "execution_count": 115,
      "metadata": {
        "id": "MQHiKmCUgg_a"
      },
      "outputs": [],
      "source": [
        "n_iter_search = 2\n",
        "parameters = {'clf__alpha': (1e-2, 1e-3)}\n",
        "gs_clf_2 = RandomizedSearchCV(clf_2, parameters, n_iter = n_iter_search)\n",
        "gs_clf_2.fit(X_train, y_train)\n",
        "pred_2_grid = gs_clf_2.predict(X_test)"
      ]
    },
    {
      "cell_type": "code",
      "execution_count": 116,
      "metadata": {
        "colab": {
          "base_uri": "https://localhost:8080/"
        },
        "id": "9J2aoyfMgoje",
        "outputId": "f28f3fc4-4204-4f0d-e400-26351be53c1c"
      },
      "outputs": [
        {
          "data": {
            "text/plain": [
              "{'clf__alpha': 0.01}"
            ]
          },
          "execution_count": 116,
          "metadata": {},
          "output_type": "execute_result"
        }
      ],
      "source": [
        "gs_clf_2.best_params_"
      ]
    },
    {
      "cell_type": "markdown",
      "metadata": {
        "id": "B-DOSNzDhUNX"
      },
      "source": [
        "3. Para el modelo 3:"
      ]
    },
    {
      "cell_type": "code",
      "execution_count": 119,
      "metadata": {
        "id": "JRaTijuIhWP_"
      },
      "outputs": [],
      "source": [
        "n_iter_search = 4\n",
        "parameters = {'vect__ngram_range': [(1, 1), (1, 2)], 'tfidf__use_idf': (True, False), 'clf__alpha': (1e-2, 1e-3)}\n",
        "gs_clf_3 = RandomizedSearchCV(clf_3, parameters, n_iter = n_iter_search)\n",
        "gs_clf_3.fit(X_train, y_train)\n",
        "pred_3_grid = gs_clf_3.predict(X_test)"
      ]
    },
    {
      "cell_type": "code",
      "execution_count": 120,
      "metadata": {
        "colab": {
          "base_uri": "https://localhost:8080/"
        },
        "id": "DNbZ-WEehfXQ",
        "outputId": "f1b30b8b-1ced-4e3b-f7fe-6ef49dfcf249"
      },
      "outputs": [
        {
          "data": {
            "text/plain": [
              "{'clf__alpha': 0.001, 'tfidf__use_idf': False, 'vect__ngram_range': (1, 2)}"
            ]
          },
          "execution_count": 120,
          "metadata": {},
          "output_type": "execute_result"
        }
      ],
      "source": [
        "gs_clf_3.best_params_"
      ]
    },
    {
      "cell_type": "code",
      "execution_count": 121,
      "metadata": {
        "colab": {
          "base_uri": "https://localhost:8080/"
        },
        "id": "prMnE8jzhl1B",
        "outputId": "f5ded1e8-92fc-4ab9-8363-f12cba7f5823"
      },
      "outputs": [
        {
          "name": "stdout",
          "output_type": "stream",
          "text": [
            "              precision    recall  f1-score   support\n",
            "\n",
            "           0       0.83      0.94      0.88       146\n",
            "           1       0.84      0.64      0.73        77\n",
            "\n",
            "    accuracy                           0.83       223\n",
            "   macro avg       0.84      0.79      0.80       223\n",
            "weighted avg       0.84      0.83      0.83       223\n",
            "\n",
            "              precision    recall  f1-score   support\n",
            "\n",
            "           0       0.80      0.95      0.87       146\n",
            "           1       0.84      0.56      0.67        77\n",
            "\n",
            "    accuracy                           0.81       223\n",
            "   macro avg       0.82      0.75      0.77       223\n",
            "weighted avg       0.82      0.81      0.80       223\n",
            "\n",
            "              precision    recall  f1-score   support\n",
            "\n",
            "           0       0.81      0.96      0.88       146\n",
            "           1       0.88      0.58      0.70        77\n",
            "\n",
            "    accuracy                           0.83       223\n",
            "   macro avg       0.85      0.77      0.79       223\n",
            "weighted avg       0.84      0.83      0.82       223\n",
            "\n"
          ]
        }
      ],
      "source": [
        "print(classification_report(y_test, pred_1_grid))\n",
        "print(classification_report(y_test, pred_2_grid))\n",
        "print(classification_report(y_test, pred_3_grid)) #Este es el modelo con mayor accuracy"
      ]
    },
    {
      "cell_type": "code",
      "execution_count": 122,
      "metadata": {
        "id": "vPXNqDAahwLk"
      },
      "outputs": [],
      "source": [
        "bmodel = gs_clf_3.best_estimator_"
      ]
    },
    {
      "cell_type": "code",
      "execution_count": 123,
      "metadata": {
        "colab": {
          "base_uri": "https://localhost:8080/",
          "height": 165
        },
        "id": "uVwwUE9ch3N9",
        "outputId": "76401d7f-f7d7-4e64-92c8-d5b4301601eb"
      },
      "outputs": [
        {
          "ename": "FileNotFoundError",
          "evalue": "ignored",
          "output_type": "error",
          "traceback": [
            "\u001b[0;31m---------------------------------------------------------------------------\u001b[0m",
            "\u001b[0;31mFileNotFoundError\u001b[0m                         Traceback (most recent call last)",
            "\u001b[0;32m<ipython-input-123-025e89e70083>\u001b[0m in \u001b[0;36m<module>\u001b[0;34m()\u001b[0m\n\u001b[0;32m----> 1\u001b[0;31m \u001b[0mpickle\u001b[0m\u001b[0;34m.\u001b[0m\u001b[0mdump\u001b[0m\u001b[0;34m(\u001b[0m\u001b[0mbmodel\u001b[0m\u001b[0;34m,\u001b[0m \u001b[0mopen\u001b[0m\u001b[0;34m(\u001b[0m\u001b[0;34m'../models/bmodel.csv'\u001b[0m\u001b[0;34m,\u001b[0m \u001b[0;34m'wb'\u001b[0m\u001b[0;34m)\u001b[0m\u001b[0;34m)\u001b[0m\u001b[0;34m\u001b[0m\u001b[0;34m\u001b[0m\u001b[0m\n\u001b[0m",
            "\u001b[0;31mFileNotFoundError\u001b[0m: [Errno 2] No such file or directory: '../models/bmodel.csv'"
          ]
        }
      ],
      "source": [
        "pickle.dump(bmodel, open('../models/bmodel.csv', 'wb'))"
      ]
    }
  ],
  "metadata": {
    "colab": {
      "collapsed_sections": [],
      "name": "naivebayes.ipynb",
      "provenance": []
    },
    "kernelspec": {
      "display_name": "Python 3.8.13 64-bit ('3.8.13')",
      "language": "python",
      "name": "python3"
    },
    "language_info": {
      "codemirror_mode": {
        "name": "ipython",
        "version": 3
      },
      "file_extension": ".py",
      "mimetype": "text/x-python",
      "name": "python",
      "nbconvert_exporter": "python",
      "pygments_lexer": "ipython3",
      "version": "3.8.13"
    },
    "vscode": {
      "interpreter": {
        "hash": "110cc1dee26208153f2972f08a2ad52b6a56238dc66d48e87fb757ef2996db56"
      }
    }
  },
  "nbformat": 4,
  "nbformat_minor": 0
}
