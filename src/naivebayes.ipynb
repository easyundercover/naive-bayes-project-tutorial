{
  "cells": [
    {
      "cell_type": "code",
      "execution_count": 2,
      "metadata": {
        "colab": {
          "base_uri": "https://localhost:8080/"
        },
        "id": "2Lpm9gqvvI2v",
        "outputId": "d8767274-922f-4ad0-844c-7e3b9c53c5ea"
      },
      "outputs": [
        {
          "name": "stderr",
          "output_type": "stream",
          "text": [
            "[nltk_data] Downloading package stopwords to\n",
            "[nltk_data]     C:\\Users\\belen\\AppData\\Roaming\\nltk_data...\n",
            "[nltk_data]   Unzipping corpora\\stopwords.zip.\n"
          ]
        }
      ],
      "source": [
        "import pandas as pd\n",
        "import numpy as np\n",
        "import sys\n",
        "import pickle\n",
        "import nltk\n",
        "nltk.download('stopwords')\n",
        "from nltk.corpus import stopwords\n",
        "from sklearn.model_selection import train_test_split\n",
        "from sklearn.feature_extraction.text import CountVectorizer\n",
        "from sklearn.pipeline import Pipeline\n",
        "from sklearn.feature_extraction.text import TfidfVectorizer\n",
        "from sklearn.feature_extraction.text import TfidfTransformer\n",
        "from sklearn.naive_bayes import MultinomialNB\n",
        "from sklearn import metrics\n",
        "from sklearn.metrics import classification_report\n",
        "from sklearn.metrics import accuracy_score\n",
        "from sklearn.model_selection import RandomizedSearchCV\n"
      ]
    },
    {
      "cell_type": "code",
      "execution_count": 3,
      "metadata": {
        "id": "3fF6d34NvOdH"
      },
      "outputs": [],
      "source": [
        "df_raw = pd.read_csv('https://raw.githubusercontent.com/4GeeksAcademy/naive-bayes-project-tutorial/main/playstore_reviews_dataset.csv')"
      ]
    },
    {
      "cell_type": "code",
      "execution_count": 4,
      "metadata": {
        "colab": {
          "base_uri": "https://localhost:8080/"
        },
        "id": "7_dktTKGvPX4",
        "outputId": "c8629236-8ec5-4eb6-eec7-f17ca1c14af4"
      },
      "outputs": [
        {
          "name": "stdout",
          "output_type": "stream",
          "text": [
            "<class 'pandas.core.frame.DataFrame'>\n",
            "RangeIndex: 891 entries, 0 to 890\n",
            "Data columns (total 3 columns):\n",
            " #   Column        Non-Null Count  Dtype \n",
            "---  ------        --------------  ----- \n",
            " 0   package_name  891 non-null    object\n",
            " 1   review        891 non-null    object\n",
            " 2   polarity      891 non-null    int64 \n",
            "dtypes: int64(1), object(2)\n",
            "memory usage: 21.0+ KB\n"
          ]
        }
      ],
      "source": [
        "df_raw.info()"
      ]
    },
    {
      "cell_type": "code",
      "execution_count": 5,
      "metadata": {
        "colab": {
          "base_uri": "https://localhost:8080/",
          "height": 363
        },
        "id": "0vrGeKWHvRhx",
        "outputId": "ca39c4bc-3ae5-4d51-908b-2eb361c7eabf"
      },
      "outputs": [
        {
          "data": {
            "text/html": [
              "<div>\n",
              "<style scoped>\n",
              "    .dataframe tbody tr th:only-of-type {\n",
              "        vertical-align: middle;\n",
              "    }\n",
              "\n",
              "    .dataframe tbody tr th {\n",
              "        vertical-align: top;\n",
              "    }\n",
              "\n",
              "    .dataframe thead th {\n",
              "        text-align: right;\n",
              "    }\n",
              "</style>\n",
              "<table border=\"1\" class=\"dataframe\">\n",
              "  <thead>\n",
              "    <tr style=\"text-align: right;\">\n",
              "      <th></th>\n",
              "      <th>package_name</th>\n",
              "      <th>review</th>\n",
              "      <th>polarity</th>\n",
              "    </tr>\n",
              "  </thead>\n",
              "  <tbody>\n",
              "    <tr>\n",
              "      <th>563</th>\n",
              "      <td>jabanaki.todo.todoly</td>\n",
              "      <td>simply brilliant simply brilliant, no problem...</td>\n",
              "      <td>1</td>\n",
              "    </tr>\n",
              "    <tr>\n",
              "      <th>518</th>\n",
              "      <td>com.dropbox.android</td>\n",
              "      <td>please do not stop carousel!  google has imp...</td>\n",
              "      <td>0</td>\n",
              "    </tr>\n",
              "    <tr>\n",
              "      <th>31</th>\n",
              "      <td>com.facebook.katana</td>\n",
              "      <td>showing old news why is it showing that someo...</td>\n",
              "      <td>0</td>\n",
              "    </tr>\n",
              "    <tr>\n",
              "      <th>407</th>\n",
              "      <td>com.facebook.orca</td>\n",
              "      <td>sometimes, if i turn off wifi, both messenge...</td>\n",
              "      <td>0</td>\n",
              "    </tr>\n",
              "    <tr>\n",
              "      <th>372</th>\n",
              "      <td>com.google.android.talk</td>\n",
              "      <td>often painfully slow. needs a useful tablet ...</td>\n",
              "      <td>0</td>\n",
              "    </tr>\n",
              "    <tr>\n",
              "      <th>750</th>\n",
              "      <td>com.shirantech.kantipur</td>\n",
              "      <td>virus i think your site ìs infected  as it is...</td>\n",
              "      <td>0</td>\n",
              "    </tr>\n",
              "    <tr>\n",
              "      <th>218</th>\n",
              "      <td>com.supercell.clashofclans</td>\n",
              "      <td>it was a great game . until the last update ...</td>\n",
              "      <td>0</td>\n",
              "    </tr>\n",
              "    <tr>\n",
              "      <th>118</th>\n",
              "      <td>com.linkedin.android</td>\n",
              "      <td>totally diferent from the web page do not use...</td>\n",
              "      <td>0</td>\n",
              "    </tr>\n",
              "    <tr>\n",
              "      <th>678</th>\n",
              "      <td>com.hamrokeyboard</td>\n",
              "      <td>i found this app very fruitful.. and m using...</td>\n",
              "      <td>1</td>\n",
              "    </tr>\n",
              "    <tr>\n",
              "      <th>623</th>\n",
              "      <td>com.uc.browser.en</td>\n",
              "      <td>i love it i love using uc browser mini becaus...</td>\n",
              "      <td>1</td>\n",
              "    </tr>\n",
              "  </tbody>\n",
              "</table>\n",
              "</div>"
            ],
            "text/plain": [
              "                   package_name  \\\n",
              "563        jabanaki.todo.todoly   \n",
              "518         com.dropbox.android   \n",
              "31          com.facebook.katana   \n",
              "407           com.facebook.orca   \n",
              "372     com.google.android.talk   \n",
              "750     com.shirantech.kantipur   \n",
              "218  com.supercell.clashofclans   \n",
              "118        com.linkedin.android   \n",
              "678           com.hamrokeyboard   \n",
              "623           com.uc.browser.en   \n",
              "\n",
              "                                                review  polarity  \n",
              "563   simply brilliant simply brilliant, no problem...         1  \n",
              "518    please do not stop carousel!  google has imp...         0  \n",
              "31    showing old news why is it showing that someo...         0  \n",
              "407    sometimes, if i turn off wifi, both messenge...         0  \n",
              "372    often painfully slow. needs a useful tablet ...         0  \n",
              "750   virus i think your site ìs infected  as it is...         0  \n",
              "218    it was a great game . until the last update ...         0  \n",
              "118   totally diferent from the web page do not use...         0  \n",
              "678    i found this app very fruitful.. and m using...         1  \n",
              "623   i love it i love using uc browser mini becaus...         1  "
            ]
          },
          "execution_count": 5,
          "metadata": {},
          "output_type": "execute_result"
        }
      ],
      "source": [
        "df_raw.sample(10)"
      ]
    },
    {
      "cell_type": "code",
      "execution_count": 6,
      "metadata": {
        "colab": {
          "base_uri": "https://localhost:8080/"
        },
        "id": "tJwg5X6Pwcgg",
        "outputId": "2837bcf1-d2ef-4a05-deab-a185a246ae0d"
      },
      "outputs": [
        {
          "data": {
            "text/plain": [
              "0    584\n",
              "1    307\n",
              "Name: polarity, dtype: int64"
            ]
          },
          "execution_count": 6,
          "metadata": {},
          "output_type": "execute_result"
        }
      ],
      "source": [
        "df_raw['polarity'].value_counts()\n",
        "#0 negativos, 1 positivo"
      ]
    },
    {
      "cell_type": "markdown",
      "metadata": {
        "id": "xZLIWVaGvvjo"
      },
      "source": [
        "**Step 1:**\n",
        "\n",
        "</br>We have three columns: package name, review and polarity (0 = bad, 1 = good) Preprocess the data by eliminating the package name column and putting all reviews in lower case."
      ]
    },
    {
      "cell_type": "code",
      "execution_count": 7,
      "metadata": {
        "id": "8Nk6zlCovXsT"
      },
      "outputs": [],
      "source": [
        "df_trans = df_raw.drop(\"package_name\", axis = 1)\n",
        "#Drops column 'package_name'"
      ]
    },
    {
      "cell_type": "code",
      "execution_count": 8,
      "metadata": {
        "id": "FGGVbTeKwkf0"
      },
      "outputs": [],
      "source": [
        "df_trans['review'] = df_trans['review'].str.lower()\n",
        "#Strings to lower case"
      ]
    },
    {
      "cell_type": "code",
      "execution_count": 9,
      "metadata": {
        "id": "lneUANO6w6uO"
      },
      "outputs": [],
      "source": [
        "df_trans['review'] = df_trans['review'].str.strip() \n",
        "#Removes leading and trailing whitespaces"
      ]
    },
    {
      "cell_type": "code",
      "execution_count": 10,
      "metadata": {
        "colab": {
          "base_uri": "https://localhost:8080/"
        },
        "id": "c2fIIerURzKA",
        "outputId": "03e6ae8f-67f1-48a3-8f50-f173e7ca5e6d"
      },
      "outputs": [
        {
          "data": {
            "text/plain": [
              "the       1293\n",
              "to        1159\n",
              "i         1084\n",
              "and        853\n",
              "it         778\n",
              "a          619\n",
              "is         555\n",
              "my         442\n",
              "this       421\n",
              "for        410\n",
              "of         390\n",
              "but        348\n",
              "in         340\n",
              "on         325\n",
              "not        318\n",
              "app        317\n",
              "you        315\n",
              "that       260\n",
              "have       252\n",
              "with       220\n",
              "so         203\n",
              "be         194\n",
              "no         186\n",
              "when       182\n",
              "if         180\n",
              "or         169\n",
              "all        163\n",
              "can        158\n",
              "as         148\n",
              "me         145\n",
              "are        139\n",
              "it's       138\n",
              "can't      137\n",
              "update     136\n",
              "new        136\n",
              "like       135\n",
              "fix        133\n",
              "please     131\n",
              "good       128\n",
              "game       121\n",
              "one        119\n",
              "use        118\n",
              "just       117\n",
              "get        112\n",
              "its        111\n",
              "very       109\n",
              "more       107\n",
              "was        104\n",
              "there      104\n",
              "don't      103\n",
              "now        102\n",
              "will       102\n",
              "even       101\n",
              "from       101\n",
              "at         100\n",
              "up          99\n",
              "great       99\n",
              "time        93\n",
              "your        90\n",
              "do          89\n",
              "dtype: int64"
            ]
          },
          "execution_count": 10,
          "metadata": {},
          "output_type": "execute_result"
        }
      ],
      "source": [
        "df_trans['review'].str.split(expand = True).stack().value_counts()[:60]"
      ]
    },
    {
      "cell_type": "code",
      "execution_count": 11,
      "metadata": {
        "id": "9mPsunUzUKGL"
      },
      "outputs": [],
      "source": [
        "#Función para retirar los stopwords\n",
        "stop = stopwords.words('english')\n",
        "\n",
        "def remove_stopwords(review):\n",
        "  if review is not None:\n",
        "    words = review.strip().split()\n",
        "    words_filtered = []\n",
        "    for word in words:\n",
        "      if word not in stop:\n",
        "        words_filtered.append(word)\n",
        "    result = \" \".join(words_filtered) #hace un join elemento por elemento separados por espacio\n",
        "  else:\n",
        "      result = None\n",
        "  return result"
      ]
    },
    {
      "cell_type": "code",
      "execution_count": 12,
      "metadata": {
        "id": "LXW7NZ1jVjv1"
      },
      "outputs": [],
      "source": [
        "df_trans['review'] = df_trans['review'].apply(remove_stopwords)"
      ]
    },
    {
      "cell_type": "code",
      "execution_count": 13,
      "metadata": {
        "colab": {
          "base_uri": "https://localhost:8080/"
        },
        "id": "YkYrAfs-WGYJ",
        "outputId": "6aaa9bb7-cffd-4d8a-8d62-523e1e7c6755"
      },
      "outputs": [
        {
          "data": {
            "text/plain": [
              "app         317\n",
              "can't       137\n",
              "new         136\n",
              "update      136\n",
              "like        135\n",
              "fix         133\n",
              "please      131\n",
              "good        128\n",
              "game        121\n",
              "one         119\n",
              "use         118\n",
              "get         112\n",
              "even        101\n",
              "great        99\n",
              "time         93\n",
              "really       82\n",
              "would        80\n",
              "back         78\n",
              "still        78\n",
              "love         77\n",
              "browser      76\n",
              "make         74\n",
              "see          69\n",
              "using        68\n",
              "work         67\n",
              "i'm          67\n",
              "5            67\n",
              "open         65\n",
              "want         64\n",
              "it.          64\n",
              "google       63\n",
              "much         61\n",
              "phone        61\n",
              "every        61\n",
              "u            58\n",
              "option       58\n",
              "version      57\n",
              "go           56\n",
              "way          56\n",
              "app.         56\n",
              "used         55\n",
              "also         55\n",
              "android      54\n",
              "download     53\n",
              "best         52\n",
              ".            51\n",
              "give         50\n",
              "better       50\n",
              "play         50\n",
              "send         49\n",
              "people       48\n",
              "able         47\n",
              "message      47\n",
              "since        46\n",
              "many         45\n",
              "keep         45\n",
              "works        44\n",
              "i've         44\n",
              "old          43\n",
              "find         43\n",
              "dtype: int64"
            ]
          },
          "execution_count": 13,
          "metadata": {},
          "output_type": "execute_result"
        }
      ],
      "source": [
        "df_trans['review'].str.split(expand = True).stack().value_counts()[:60]"
      ]
    },
    {
      "cell_type": "code",
      "execution_count": 14,
      "metadata": {
        "id": "Q34FzlKwxXXA"
      },
      "outputs": [],
      "source": [
        "df = df_trans.copy()"
      ]
    },
    {
      "cell_type": "markdown",
      "metadata": {
        "id": "vEXs9x3axQTU"
      },
      "source": [
        "**Step 2:**\n",
        "\n",
        "Separate target from feature, and split your data."
      ]
    },
    {
      "cell_type": "code",
      "execution_count": 15,
      "metadata": {
        "id": "z1gSsi70xTp4"
      },
      "outputs": [],
      "source": [
        "X = df['review']\n",
        "y = df['polarity']\n",
        "\n",
        "X_train, X_test, y_train, y_test = train_test_split(X, y, stratify = y, random_state = 25)\n",
        "#Stratify is for unbalanced datasets\n",
        "#Polarity is unbalanced (584 vs 307)"
      ]
    },
    {
      "cell_type": "markdown",
      "metadata": {
        "id": "rfmY5XfsxpXj"
      },
      "source": [
        "**Step 3:**\n",
        "\n",
        "Vectorize your features and use Naive Bayes to classify the reviews as good or bad. We will not focus on hypertuning our model this time. This was an introduction project to sentiment analysis using Naive Bayes."
      ]
    },
    {
      "cell_type": "markdown",
      "metadata": {
        "id": "hiJPaKnzbnwE"
      },
      "source": [
        "Diferentes opciones de pipeline según los preprocessing steps:"
      ]
    },
    {
      "cell_type": "markdown",
      "metadata": {
        "id": "W9uKWJoxbqrt"
      },
      "source": [
        "1. One preprocessing step (CountVectorizer) and one model step:"
      ]
    },
    {
      "cell_type": "code",
      "execution_count": 16,
      "metadata": {
        "id": "JZ8lj_kLcJuT"
      },
      "outputs": [],
      "source": [
        "clf_1 = Pipeline([('cont_vect', CountVectorizer()), ('clf', MultinomialNB())])"
      ]
    },
    {
      "cell_type": "markdown",
      "metadata": {
        "id": "8deGT1m7cQvY"
      },
      "source": [
        "2. One preprocessing step (TfidfVectorizer) and one model step:"
      ]
    },
    {
      "cell_type": "code",
      "execution_count": 17,
      "metadata": {
        "id": "NPFseHSCcQCG"
      },
      "outputs": [],
      "source": [
        "clf_2 = Pipeline([('tfidf_vect', TfidfVectorizer()), ('clf', MultinomialNB())])"
      ]
    },
    {
      "cell_type": "markdown",
      "metadata": {
        "id": "c4zT9VtGchK3"
      },
      "source": [
        "3. Two preprocessing steps and one model step:"
      ]
    },
    {
      "cell_type": "code",
      "execution_count": 18,
      "metadata": {
        "id": "xFTATPcpcbBa"
      },
      "outputs": [],
      "source": [
        "clf_3 = Pipeline([('vect', CountVectorizer()), ('tfidf', TfidfTransformer()), ('clf', MultinomialNB())])"
      ]
    },
    {
      "cell_type": "markdown",
      "metadata": {
        "id": "o8_r7QWJcvKW"
      },
      "source": [
        "Model training:"
      ]
    },
    {
      "cell_type": "code",
      "execution_count": 19,
      "metadata": {
        "colab": {
          "base_uri": "https://localhost:8080/"
        },
        "id": "jfWS9CoQczv7",
        "outputId": "b03b21f7-01dd-4170-e946-3534c47ef33f"
      },
      "outputs": [
        {
          "data": {
            "text/html": [
              "<style>#sk-container-id-1 {color: black;background-color: white;}#sk-container-id-1 pre{padding: 0;}#sk-container-id-1 div.sk-toggleable {background-color: white;}#sk-container-id-1 label.sk-toggleable__label {cursor: pointer;display: block;width: 100%;margin-bottom: 0;padding: 0.3em;box-sizing: border-box;text-align: center;}#sk-container-id-1 label.sk-toggleable__label-arrow:before {content: \"▸\";float: left;margin-right: 0.25em;color: #696969;}#sk-container-id-1 label.sk-toggleable__label-arrow:hover:before {color: black;}#sk-container-id-1 div.sk-estimator:hover label.sk-toggleable__label-arrow:before {color: black;}#sk-container-id-1 div.sk-toggleable__content {max-height: 0;max-width: 0;overflow: hidden;text-align: left;background-color: #f0f8ff;}#sk-container-id-1 div.sk-toggleable__content pre {margin: 0.2em;color: black;border-radius: 0.25em;background-color: #f0f8ff;}#sk-container-id-1 input.sk-toggleable__control:checked~div.sk-toggleable__content {max-height: 200px;max-width: 100%;overflow: auto;}#sk-container-id-1 input.sk-toggleable__control:checked~label.sk-toggleable__label-arrow:before {content: \"▾\";}#sk-container-id-1 div.sk-estimator input.sk-toggleable__control:checked~label.sk-toggleable__label {background-color: #d4ebff;}#sk-container-id-1 div.sk-label input.sk-toggleable__control:checked~label.sk-toggleable__label {background-color: #d4ebff;}#sk-container-id-1 input.sk-hidden--visually {border: 0;clip: rect(1px 1px 1px 1px);clip: rect(1px, 1px, 1px, 1px);height: 1px;margin: -1px;overflow: hidden;padding: 0;position: absolute;width: 1px;}#sk-container-id-1 div.sk-estimator {font-family: monospace;background-color: #f0f8ff;border: 1px dotted black;border-radius: 0.25em;box-sizing: border-box;margin-bottom: 0.5em;}#sk-container-id-1 div.sk-estimator:hover {background-color: #d4ebff;}#sk-container-id-1 div.sk-parallel-item::after {content: \"\";width: 100%;border-bottom: 1px solid gray;flex-grow: 1;}#sk-container-id-1 div.sk-label:hover label.sk-toggleable__label {background-color: #d4ebff;}#sk-container-id-1 div.sk-serial::before {content: \"\";position: absolute;border-left: 1px solid gray;box-sizing: border-box;top: 0;bottom: 0;left: 50%;z-index: 0;}#sk-container-id-1 div.sk-serial {display: flex;flex-direction: column;align-items: center;background-color: white;padding-right: 0.2em;padding-left: 0.2em;position: relative;}#sk-container-id-1 div.sk-item {position: relative;z-index: 1;}#sk-container-id-1 div.sk-parallel {display: flex;align-items: stretch;justify-content: center;background-color: white;position: relative;}#sk-container-id-1 div.sk-item::before, #sk-container-id-1 div.sk-parallel-item::before {content: \"\";position: absolute;border-left: 1px solid gray;box-sizing: border-box;top: 0;bottom: 0;left: 50%;z-index: -1;}#sk-container-id-1 div.sk-parallel-item {display: flex;flex-direction: column;z-index: 1;position: relative;background-color: white;}#sk-container-id-1 div.sk-parallel-item:first-child::after {align-self: flex-end;width: 50%;}#sk-container-id-1 div.sk-parallel-item:last-child::after {align-self: flex-start;width: 50%;}#sk-container-id-1 div.sk-parallel-item:only-child::after {width: 0;}#sk-container-id-1 div.sk-dashed-wrapped {border: 1px dashed gray;margin: 0 0.4em 0.5em 0.4em;box-sizing: border-box;padding-bottom: 0.4em;background-color: white;}#sk-container-id-1 div.sk-label label {font-family: monospace;font-weight: bold;display: inline-block;line-height: 1.2em;}#sk-container-id-1 div.sk-label-container {text-align: center;}#sk-container-id-1 div.sk-container {/* jupyter's `normalize.less` sets `[hidden] { display: none; }` but bootstrap.min.css set `[hidden] { display: none !important; }` so we also need the `!important` here to be able to override the default hidden behavior on the sphinx rendered scikit-learn.org. See: https://github.com/scikit-learn/scikit-learn/issues/21755 */display: inline-block !important;position: relative;}#sk-container-id-1 div.sk-text-repr-fallback {display: none;}</style><div id=\"sk-container-id-1\" class=\"sk-top-container\"><div class=\"sk-text-repr-fallback\"><pre>Pipeline(steps=[(&#x27;cont_vect&#x27;, CountVectorizer()), (&#x27;clf&#x27;, MultinomialNB())])</pre><b>In a Jupyter environment, please rerun this cell to show the HTML representation or trust the notebook. <br />On GitHub, the HTML representation is unable to render, please try loading this page with nbviewer.org.</b></div><div class=\"sk-container\" hidden><div class=\"sk-item sk-dashed-wrapped\"><div class=\"sk-label-container\"><div class=\"sk-label sk-toggleable\"><input class=\"sk-toggleable__control sk-hidden--visually\" id=\"sk-estimator-id-1\" type=\"checkbox\" ><label for=\"sk-estimator-id-1\" class=\"sk-toggleable__label sk-toggleable__label-arrow\">Pipeline</label><div class=\"sk-toggleable__content\"><pre>Pipeline(steps=[(&#x27;cont_vect&#x27;, CountVectorizer()), (&#x27;clf&#x27;, MultinomialNB())])</pre></div></div></div><div class=\"sk-serial\"><div class=\"sk-item\"><div class=\"sk-estimator sk-toggleable\"><input class=\"sk-toggleable__control sk-hidden--visually\" id=\"sk-estimator-id-2\" type=\"checkbox\" ><label for=\"sk-estimator-id-2\" class=\"sk-toggleable__label sk-toggleable__label-arrow\">CountVectorizer</label><div class=\"sk-toggleable__content\"><pre>CountVectorizer()</pre></div></div></div><div class=\"sk-item\"><div class=\"sk-estimator sk-toggleable\"><input class=\"sk-toggleable__control sk-hidden--visually\" id=\"sk-estimator-id-3\" type=\"checkbox\" ><label for=\"sk-estimator-id-3\" class=\"sk-toggleable__label sk-toggleable__label-arrow\">MultinomialNB</label><div class=\"sk-toggleable__content\"><pre>MultinomialNB()</pre></div></div></div></div></div></div></div>"
            ],
            "text/plain": [
              "Pipeline(steps=[('cont_vect', CountVectorizer()), ('clf', MultinomialNB())])"
            ]
          },
          "execution_count": 19,
          "metadata": {},
          "output_type": "execute_result"
        }
      ],
      "source": [
        "clf_1.fit(X_train, y_train)\n",
        "#Para la opción 1"
      ]
    },
    {
      "cell_type": "code",
      "execution_count": 20,
      "metadata": {
        "colab": {
          "base_uri": "https://localhost:8080/"
        },
        "id": "QT4Wb1FJc8Ci",
        "outputId": "833162ae-4e10-44cb-9739-7744356cd184"
      },
      "outputs": [
        {
          "data": {
            "text/html": [
              "<style>#sk-container-id-2 {color: black;background-color: white;}#sk-container-id-2 pre{padding: 0;}#sk-container-id-2 div.sk-toggleable {background-color: white;}#sk-container-id-2 label.sk-toggleable__label {cursor: pointer;display: block;width: 100%;margin-bottom: 0;padding: 0.3em;box-sizing: border-box;text-align: center;}#sk-container-id-2 label.sk-toggleable__label-arrow:before {content: \"▸\";float: left;margin-right: 0.25em;color: #696969;}#sk-container-id-2 label.sk-toggleable__label-arrow:hover:before {color: black;}#sk-container-id-2 div.sk-estimator:hover label.sk-toggleable__label-arrow:before {color: black;}#sk-container-id-2 div.sk-toggleable__content {max-height: 0;max-width: 0;overflow: hidden;text-align: left;background-color: #f0f8ff;}#sk-container-id-2 div.sk-toggleable__content pre {margin: 0.2em;color: black;border-radius: 0.25em;background-color: #f0f8ff;}#sk-container-id-2 input.sk-toggleable__control:checked~div.sk-toggleable__content {max-height: 200px;max-width: 100%;overflow: auto;}#sk-container-id-2 input.sk-toggleable__control:checked~label.sk-toggleable__label-arrow:before {content: \"▾\";}#sk-container-id-2 div.sk-estimator input.sk-toggleable__control:checked~label.sk-toggleable__label {background-color: #d4ebff;}#sk-container-id-2 div.sk-label input.sk-toggleable__control:checked~label.sk-toggleable__label {background-color: #d4ebff;}#sk-container-id-2 input.sk-hidden--visually {border: 0;clip: rect(1px 1px 1px 1px);clip: rect(1px, 1px, 1px, 1px);height: 1px;margin: -1px;overflow: hidden;padding: 0;position: absolute;width: 1px;}#sk-container-id-2 div.sk-estimator {font-family: monospace;background-color: #f0f8ff;border: 1px dotted black;border-radius: 0.25em;box-sizing: border-box;margin-bottom: 0.5em;}#sk-container-id-2 div.sk-estimator:hover {background-color: #d4ebff;}#sk-container-id-2 div.sk-parallel-item::after {content: \"\";width: 100%;border-bottom: 1px solid gray;flex-grow: 1;}#sk-container-id-2 div.sk-label:hover label.sk-toggleable__label {background-color: #d4ebff;}#sk-container-id-2 div.sk-serial::before {content: \"\";position: absolute;border-left: 1px solid gray;box-sizing: border-box;top: 0;bottom: 0;left: 50%;z-index: 0;}#sk-container-id-2 div.sk-serial {display: flex;flex-direction: column;align-items: center;background-color: white;padding-right: 0.2em;padding-left: 0.2em;position: relative;}#sk-container-id-2 div.sk-item {position: relative;z-index: 1;}#sk-container-id-2 div.sk-parallel {display: flex;align-items: stretch;justify-content: center;background-color: white;position: relative;}#sk-container-id-2 div.sk-item::before, #sk-container-id-2 div.sk-parallel-item::before {content: \"\";position: absolute;border-left: 1px solid gray;box-sizing: border-box;top: 0;bottom: 0;left: 50%;z-index: -1;}#sk-container-id-2 div.sk-parallel-item {display: flex;flex-direction: column;z-index: 1;position: relative;background-color: white;}#sk-container-id-2 div.sk-parallel-item:first-child::after {align-self: flex-end;width: 50%;}#sk-container-id-2 div.sk-parallel-item:last-child::after {align-self: flex-start;width: 50%;}#sk-container-id-2 div.sk-parallel-item:only-child::after {width: 0;}#sk-container-id-2 div.sk-dashed-wrapped {border: 1px dashed gray;margin: 0 0.4em 0.5em 0.4em;box-sizing: border-box;padding-bottom: 0.4em;background-color: white;}#sk-container-id-2 div.sk-label label {font-family: monospace;font-weight: bold;display: inline-block;line-height: 1.2em;}#sk-container-id-2 div.sk-label-container {text-align: center;}#sk-container-id-2 div.sk-container {/* jupyter's `normalize.less` sets `[hidden] { display: none; }` but bootstrap.min.css set `[hidden] { display: none !important; }` so we also need the `!important` here to be able to override the default hidden behavior on the sphinx rendered scikit-learn.org. See: https://github.com/scikit-learn/scikit-learn/issues/21755 */display: inline-block !important;position: relative;}#sk-container-id-2 div.sk-text-repr-fallback {display: none;}</style><div id=\"sk-container-id-2\" class=\"sk-top-container\"><div class=\"sk-text-repr-fallback\"><pre>Pipeline(steps=[(&#x27;tfidf_vect&#x27;, TfidfVectorizer()), (&#x27;clf&#x27;, MultinomialNB())])</pre><b>In a Jupyter environment, please rerun this cell to show the HTML representation or trust the notebook. <br />On GitHub, the HTML representation is unable to render, please try loading this page with nbviewer.org.</b></div><div class=\"sk-container\" hidden><div class=\"sk-item sk-dashed-wrapped\"><div class=\"sk-label-container\"><div class=\"sk-label sk-toggleable\"><input class=\"sk-toggleable__control sk-hidden--visually\" id=\"sk-estimator-id-4\" type=\"checkbox\" ><label for=\"sk-estimator-id-4\" class=\"sk-toggleable__label sk-toggleable__label-arrow\">Pipeline</label><div class=\"sk-toggleable__content\"><pre>Pipeline(steps=[(&#x27;tfidf_vect&#x27;, TfidfVectorizer()), (&#x27;clf&#x27;, MultinomialNB())])</pre></div></div></div><div class=\"sk-serial\"><div class=\"sk-item\"><div class=\"sk-estimator sk-toggleable\"><input class=\"sk-toggleable__control sk-hidden--visually\" id=\"sk-estimator-id-5\" type=\"checkbox\" ><label for=\"sk-estimator-id-5\" class=\"sk-toggleable__label sk-toggleable__label-arrow\">TfidfVectorizer</label><div class=\"sk-toggleable__content\"><pre>TfidfVectorizer()</pre></div></div></div><div class=\"sk-item\"><div class=\"sk-estimator sk-toggleable\"><input class=\"sk-toggleable__control sk-hidden--visually\" id=\"sk-estimator-id-6\" type=\"checkbox\" ><label for=\"sk-estimator-id-6\" class=\"sk-toggleable__label sk-toggleable__label-arrow\">MultinomialNB</label><div class=\"sk-toggleable__content\"><pre>MultinomialNB()</pre></div></div></div></div></div></div></div>"
            ],
            "text/plain": [
              "Pipeline(steps=[('tfidf_vect', TfidfVectorizer()), ('clf', MultinomialNB())])"
            ]
          },
          "execution_count": 20,
          "metadata": {},
          "output_type": "execute_result"
        }
      ],
      "source": [
        "clf_2.fit(X_train, y_train)\n",
        "#Para la opción 2"
      ]
    },
    {
      "cell_type": "code",
      "execution_count": 21,
      "metadata": {
        "colab": {
          "base_uri": "https://localhost:8080/"
        },
        "id": "FxG93fduc9or",
        "outputId": "69d04b48-8b58-48c2-fb2a-e68a78730f5e"
      },
      "outputs": [
        {
          "data": {
            "text/html": [
              "<style>#sk-container-id-3 {color: black;background-color: white;}#sk-container-id-3 pre{padding: 0;}#sk-container-id-3 div.sk-toggleable {background-color: white;}#sk-container-id-3 label.sk-toggleable__label {cursor: pointer;display: block;width: 100%;margin-bottom: 0;padding: 0.3em;box-sizing: border-box;text-align: center;}#sk-container-id-3 label.sk-toggleable__label-arrow:before {content: \"▸\";float: left;margin-right: 0.25em;color: #696969;}#sk-container-id-3 label.sk-toggleable__label-arrow:hover:before {color: black;}#sk-container-id-3 div.sk-estimator:hover label.sk-toggleable__label-arrow:before {color: black;}#sk-container-id-3 div.sk-toggleable__content {max-height: 0;max-width: 0;overflow: hidden;text-align: left;background-color: #f0f8ff;}#sk-container-id-3 div.sk-toggleable__content pre {margin: 0.2em;color: black;border-radius: 0.25em;background-color: #f0f8ff;}#sk-container-id-3 input.sk-toggleable__control:checked~div.sk-toggleable__content {max-height: 200px;max-width: 100%;overflow: auto;}#sk-container-id-3 input.sk-toggleable__control:checked~label.sk-toggleable__label-arrow:before {content: \"▾\";}#sk-container-id-3 div.sk-estimator input.sk-toggleable__control:checked~label.sk-toggleable__label {background-color: #d4ebff;}#sk-container-id-3 div.sk-label input.sk-toggleable__control:checked~label.sk-toggleable__label {background-color: #d4ebff;}#sk-container-id-3 input.sk-hidden--visually {border: 0;clip: rect(1px 1px 1px 1px);clip: rect(1px, 1px, 1px, 1px);height: 1px;margin: -1px;overflow: hidden;padding: 0;position: absolute;width: 1px;}#sk-container-id-3 div.sk-estimator {font-family: monospace;background-color: #f0f8ff;border: 1px dotted black;border-radius: 0.25em;box-sizing: border-box;margin-bottom: 0.5em;}#sk-container-id-3 div.sk-estimator:hover {background-color: #d4ebff;}#sk-container-id-3 div.sk-parallel-item::after {content: \"\";width: 100%;border-bottom: 1px solid gray;flex-grow: 1;}#sk-container-id-3 div.sk-label:hover label.sk-toggleable__label {background-color: #d4ebff;}#sk-container-id-3 div.sk-serial::before {content: \"\";position: absolute;border-left: 1px solid gray;box-sizing: border-box;top: 0;bottom: 0;left: 50%;z-index: 0;}#sk-container-id-3 div.sk-serial {display: flex;flex-direction: column;align-items: center;background-color: white;padding-right: 0.2em;padding-left: 0.2em;position: relative;}#sk-container-id-3 div.sk-item {position: relative;z-index: 1;}#sk-container-id-3 div.sk-parallel {display: flex;align-items: stretch;justify-content: center;background-color: white;position: relative;}#sk-container-id-3 div.sk-item::before, #sk-container-id-3 div.sk-parallel-item::before {content: \"\";position: absolute;border-left: 1px solid gray;box-sizing: border-box;top: 0;bottom: 0;left: 50%;z-index: -1;}#sk-container-id-3 div.sk-parallel-item {display: flex;flex-direction: column;z-index: 1;position: relative;background-color: white;}#sk-container-id-3 div.sk-parallel-item:first-child::after {align-self: flex-end;width: 50%;}#sk-container-id-3 div.sk-parallel-item:last-child::after {align-self: flex-start;width: 50%;}#sk-container-id-3 div.sk-parallel-item:only-child::after {width: 0;}#sk-container-id-3 div.sk-dashed-wrapped {border: 1px dashed gray;margin: 0 0.4em 0.5em 0.4em;box-sizing: border-box;padding-bottom: 0.4em;background-color: white;}#sk-container-id-3 div.sk-label label {font-family: monospace;font-weight: bold;display: inline-block;line-height: 1.2em;}#sk-container-id-3 div.sk-label-container {text-align: center;}#sk-container-id-3 div.sk-container {/* jupyter's `normalize.less` sets `[hidden] { display: none; }` but bootstrap.min.css set `[hidden] { display: none !important; }` so we also need the `!important` here to be able to override the default hidden behavior on the sphinx rendered scikit-learn.org. See: https://github.com/scikit-learn/scikit-learn/issues/21755 */display: inline-block !important;position: relative;}#sk-container-id-3 div.sk-text-repr-fallback {display: none;}</style><div id=\"sk-container-id-3\" class=\"sk-top-container\"><div class=\"sk-text-repr-fallback\"><pre>Pipeline(steps=[(&#x27;vect&#x27;, CountVectorizer()), (&#x27;tfidf&#x27;, TfidfTransformer()),\n",
              "                (&#x27;clf&#x27;, MultinomialNB())])</pre><b>In a Jupyter environment, please rerun this cell to show the HTML representation or trust the notebook. <br />On GitHub, the HTML representation is unable to render, please try loading this page with nbviewer.org.</b></div><div class=\"sk-container\" hidden><div class=\"sk-item sk-dashed-wrapped\"><div class=\"sk-label-container\"><div class=\"sk-label sk-toggleable\"><input class=\"sk-toggleable__control sk-hidden--visually\" id=\"sk-estimator-id-7\" type=\"checkbox\" ><label for=\"sk-estimator-id-7\" class=\"sk-toggleable__label sk-toggleable__label-arrow\">Pipeline</label><div class=\"sk-toggleable__content\"><pre>Pipeline(steps=[(&#x27;vect&#x27;, CountVectorizer()), (&#x27;tfidf&#x27;, TfidfTransformer()),\n",
              "                (&#x27;clf&#x27;, MultinomialNB())])</pre></div></div></div><div class=\"sk-serial\"><div class=\"sk-item\"><div class=\"sk-estimator sk-toggleable\"><input class=\"sk-toggleable__control sk-hidden--visually\" id=\"sk-estimator-id-8\" type=\"checkbox\" ><label for=\"sk-estimator-id-8\" class=\"sk-toggleable__label sk-toggleable__label-arrow\">CountVectorizer</label><div class=\"sk-toggleable__content\"><pre>CountVectorizer()</pre></div></div></div><div class=\"sk-item\"><div class=\"sk-estimator sk-toggleable\"><input class=\"sk-toggleable__control sk-hidden--visually\" id=\"sk-estimator-id-9\" type=\"checkbox\" ><label for=\"sk-estimator-id-9\" class=\"sk-toggleable__label sk-toggleable__label-arrow\">TfidfTransformer</label><div class=\"sk-toggleable__content\"><pre>TfidfTransformer()</pre></div></div></div><div class=\"sk-item\"><div class=\"sk-estimator sk-toggleable\"><input class=\"sk-toggleable__control sk-hidden--visually\" id=\"sk-estimator-id-10\" type=\"checkbox\" ><label for=\"sk-estimator-id-10\" class=\"sk-toggleable__label sk-toggleable__label-arrow\">MultinomialNB</label><div class=\"sk-toggleable__content\"><pre>MultinomialNB()</pre></div></div></div></div></div></div></div>"
            ],
            "text/plain": [
              "Pipeline(steps=[('vect', CountVectorizer()), ('tfidf', TfidfTransformer()),\n",
              "                ('clf', MultinomialNB())])"
            ]
          },
          "execution_count": 21,
          "metadata": {},
          "output_type": "execute_result"
        }
      ],
      "source": [
        "clf_3.fit(X_train, y_train)\n",
        "#Para la opción 3"
      ]
    },
    {
      "cell_type": "markdown",
      "metadata": {
        "id": "nEKvLywNdBk3"
      },
      "source": [
        "Predictions:"
      ]
    },
    {
      "cell_type": "code",
      "execution_count": 22,
      "metadata": {
        "id": "fP5b9YkcdDab"
      },
      "outputs": [],
      "source": [
        "pred_1 = clf_1.predict(X_test)"
      ]
    },
    {
      "cell_type": "code",
      "execution_count": 23,
      "metadata": {
        "id": "o6PgAKHudFsU"
      },
      "outputs": [],
      "source": [
        "pred_2 = clf_2.predict(X_test)\n"
      ]
    },
    {
      "cell_type": "code",
      "execution_count": 24,
      "metadata": {
        "id": "nNnMAd6MdHdj"
      },
      "outputs": [],
      "source": [
        "pred_3 = clf_3.predict(X_test)"
      ]
    },
    {
      "cell_type": "markdown",
      "metadata": {
        "id": "g_vKtX8Q2EJH"
      },
      "source": [
        "* Pipeline step by step:"
      ]
    },
    {
      "cell_type": "code",
      "execution_count": 61,
      "metadata": {
        "id": "-hHIDebV1p6W"
      },
      "outputs": [],
      "source": [
        "#Opción 1:\n",
        "#vect = CountVectorizer() #Vector de conteo\n",
        "#text_vec = vect.fit_transform(X_train)\n",
        "#text_vec.toarray() #Vemos que son vectores con 0 y 1\n",
        "#Cada fila es un comentario y cada columna una palabra"
      ]
    },
    {
      "cell_type": "code",
      "execution_count": 62,
      "metadata": {
        "id": "f4nRehwf2Toc"
      },
      "outputs": [],
      "source": [
        "#vect.get_feature_names_out()\n",
        "#Muestra array con todo el vocabulario"
      ]
    },
    {
      "cell_type": "code",
      "execution_count": 63,
      "metadata": {
        "id": "hq8Y4SdE23OU"
      },
      "outputs": [],
      "source": [
        "#Opción 2:\n",
        "#tfidf = TfidfVectorizer()\n",
        "#text_tfidf = tfidf.fit_transform(X_train)\n",
        "#np.set_printoptions(threshold = sys.maxsize)\n",
        "#text_tfidf.toarray()[0] Commented bc output is too large"
      ]
    },
    {
      "cell_type": "code",
      "execution_count": 64,
      "metadata": {
        "id": "igTpMj9y6JTT"
      },
      "outputs": [],
      "source": [
        "#Opción 3:\n",
        "#text_clf = Pipeline([('vect', CountVectorizer()), ('tfidf', TfidfTransformer())])\n",
        "#text_norm = text_clf.fit_transform(X_train)"
      ]
    },
    {
      "cell_type": "code",
      "execution_count": 65,
      "metadata": {
        "id": "KcIJOhva6css"
      },
      "outputs": [],
      "source": [
        "#text_norm.toarray()[0] commented bc output is too big"
      ]
    },
    {
      "cell_type": "markdown",
      "metadata": {
        "id": "Uq6Zf5bx8_Lw"
      },
      "source": [
        "Scores:"
      ]
    },
    {
      "cell_type": "code",
      "execution_count": 25,
      "metadata": {
        "colab": {
          "base_uri": "https://localhost:8080/"
        },
        "id": "52oDOd499uBN",
        "outputId": "4f4e5409-d69c-4562-97d8-8f6a1d55bf6a"
      },
      "outputs": [
        {
          "name": "stdout",
          "output_type": "stream",
          "text": [
            "              precision    recall  f1-score   support\n",
            "\n",
            "           0       0.83      0.93      0.88       146\n",
            "           1       0.83      0.65      0.73        77\n",
            "\n",
            "    accuracy                           0.83       223\n",
            "   macro avg       0.83      0.79      0.81       223\n",
            "weighted avg       0.83      0.83      0.83       223\n",
            "\n",
            "              precision    recall  f1-score   support\n",
            "\n",
            "           0       0.71      0.99      0.83       146\n",
            "           1       0.90      0.23      0.37        77\n",
            "\n",
            "    accuracy                           0.73       223\n",
            "   macro avg       0.80      0.61      0.60       223\n",
            "weighted avg       0.78      0.73      0.67       223\n",
            "\n",
            "              precision    recall  f1-score   support\n",
            "\n",
            "           0       0.71      0.99      0.83       146\n",
            "           1       0.90      0.23      0.37        77\n",
            "\n",
            "    accuracy                           0.73       223\n",
            "   macro avg       0.80      0.61      0.60       223\n",
            "weighted avg       0.78      0.73      0.67       223\n",
            "\n"
          ]
        }
      ],
      "source": [
        "print(classification_report(y_test, pred_1)) #Al que le dio mejor es a este (0.83 accuracy)\n",
        "print(classification_report(y_test, pred_2))\n",
        "print(classification_report(y_test, pred_3))"
      ]
    },
    {
      "cell_type": "code",
      "execution_count": 26,
      "metadata": {
        "colab": {
          "base_uri": "https://localhost:8080/"
        },
        "id": "CTMfNhNt-TqT",
        "outputId": "512d654e-275c-4893-8c43-00d1f7503648"
      },
      "outputs": [
        {
          "name": "stdout",
          "output_type": "stream",
          "text": [
            "clf_1 Test Accuracy =  0.8340807174887892\n",
            "clf_2 Test Accuracy =  0.726457399103139\n",
            "clf_3 Test Accuracy =  0.726457399103139\n"
          ]
        }
      ],
      "source": [
        "print('clf_1 Test Accuracy = ', metrics.accuracy_score(y_test,pred_1))\n",
        "print('clf_2 Test Accuracy = ' , metrics.accuracy_score(y_test,pred_2))\n",
        "print('clf_3 Test Accuracy = ', metrics.accuracy_score(y_test,pred_3))"
      ]
    },
    {
      "cell_type": "markdown",
      "metadata": {
        "id": "sZ4FGl4NZ54T"
      },
      "source": [
        "Búsqueda de hiperparámetros"
      ]
    },
    {
      "cell_type": "markdown",
      "metadata": {
        "id": "Jd58K204gdt_"
      },
      "source": [
        "1. Para el modelo 1:"
      ]
    },
    {
      "cell_type": "code",
      "execution_count": 27,
      "metadata": {
        "id": "PGTwbA0jaB80"
      },
      "outputs": [],
      "source": [
        "n_iter_search = 4\n",
        "parameters = {'cont_vect__ngram_range': [(1, 1), (1, 2)], 'clf__alpha': (1e-2, 1e-3)}\n",
        "gs_clf_1 = RandomizedSearchCV(clf_1, parameters, n_iter = n_iter_search)\n",
        "gs_clf_1.fit(X_train, y_train)\n",
        "pred_1_grid = gs_clf_1.predict(X_test)"
      ]
    },
    {
      "cell_type": "code",
      "execution_count": 28,
      "metadata": {
        "colab": {
          "base_uri": "https://localhost:8080/"
        },
        "id": "27fIwGZSgTOl",
        "outputId": "bdbc2f6f-71cd-4cd6-8392-8e898311724a"
      },
      "outputs": [
        {
          "data": {
            "text/plain": [
              "{'cont_vect__ngram_range': (1, 2), 'clf__alpha': 0.01}"
            ]
          },
          "execution_count": 28,
          "metadata": {},
          "output_type": "execute_result"
        }
      ],
      "source": [
        "gs_clf_1.best_params_"
      ]
    },
    {
      "cell_type": "markdown",
      "metadata": {
        "id": "HOPqT9pbgfMU"
      },
      "source": [
        "2. Para el modelo 2:"
      ]
    },
    {
      "cell_type": "code",
      "execution_count": 29,
      "metadata": {
        "id": "MQHiKmCUgg_a"
      },
      "outputs": [],
      "source": [
        "n_iter_search = 2\n",
        "parameters = {'clf__alpha': (1e-2, 1e-3)}\n",
        "gs_clf_2 = RandomizedSearchCV(clf_2, parameters, n_iter = n_iter_search)\n",
        "gs_clf_2.fit(X_train, y_train)\n",
        "pred_2_grid = gs_clf_2.predict(X_test)"
      ]
    },
    {
      "cell_type": "code",
      "execution_count": 30,
      "metadata": {
        "colab": {
          "base_uri": "https://localhost:8080/"
        },
        "id": "9J2aoyfMgoje",
        "outputId": "f28f3fc4-4204-4f0d-e400-26351be53c1c"
      },
      "outputs": [
        {
          "data": {
            "text/plain": [
              "{'clf__alpha': 0.01}"
            ]
          },
          "execution_count": 30,
          "metadata": {},
          "output_type": "execute_result"
        }
      ],
      "source": [
        "gs_clf_2.best_params_"
      ]
    },
    {
      "cell_type": "markdown",
      "metadata": {
        "id": "B-DOSNzDhUNX"
      },
      "source": [
        "3. Para el modelo 3:"
      ]
    },
    {
      "cell_type": "code",
      "execution_count": 31,
      "metadata": {
        "id": "JRaTijuIhWP_"
      },
      "outputs": [],
      "source": [
        "n_iter_search = 4\n",
        "parameters = {'vect__ngram_range': [(1, 1), (1, 2)], 'tfidf__use_idf': (True, False), 'clf__alpha': (1e-2, 1e-3)}\n",
        "gs_clf_3 = RandomizedSearchCV(clf_3, parameters, n_iter = n_iter_search)\n",
        "gs_clf_3.fit(X_train, y_train)\n",
        "pred_3_grid = gs_clf_3.predict(X_test)"
      ]
    },
    {
      "cell_type": "code",
      "execution_count": 32,
      "metadata": {
        "colab": {
          "base_uri": "https://localhost:8080/"
        },
        "id": "DNbZ-WEehfXQ",
        "outputId": "f1b30b8b-1ced-4e3b-f7fe-6ef49dfcf249"
      },
      "outputs": [
        {
          "data": {
            "text/plain": [
              "{'vect__ngram_range': (1, 2), 'tfidf__use_idf': False, 'clf__alpha': 0.01}"
            ]
          },
          "execution_count": 32,
          "metadata": {},
          "output_type": "execute_result"
        }
      ],
      "source": [
        "gs_clf_3.best_params_"
      ]
    },
    {
      "cell_type": "code",
      "execution_count": 33,
      "metadata": {
        "colab": {
          "base_uri": "https://localhost:8080/"
        },
        "id": "prMnE8jzhl1B",
        "outputId": "f5ded1e8-92fc-4ab9-8363-f12cba7f5823"
      },
      "outputs": [
        {
          "name": "stdout",
          "output_type": "stream",
          "text": [
            "              precision    recall  f1-score   support\n",
            "\n",
            "           0       0.83      0.94      0.88       146\n",
            "           1       0.84      0.64      0.73        77\n",
            "\n",
            "    accuracy                           0.83       223\n",
            "   macro avg       0.84      0.79      0.80       223\n",
            "weighted avg       0.84      0.83      0.83       223\n",
            "\n",
            "              precision    recall  f1-score   support\n",
            "\n",
            "           0       0.80      0.95      0.87       146\n",
            "           1       0.84      0.56      0.67        77\n",
            "\n",
            "    accuracy                           0.81       223\n",
            "   macro avg       0.82      0.75      0.77       223\n",
            "weighted avg       0.82      0.81      0.80       223\n",
            "\n",
            "              precision    recall  f1-score   support\n",
            "\n",
            "           0       0.82      0.97      0.89       146\n",
            "           1       0.90      0.61      0.73        77\n",
            "\n",
            "    accuracy                           0.84       223\n",
            "   macro avg       0.86      0.79      0.81       223\n",
            "weighted avg       0.85      0.84      0.83       223\n",
            "\n"
          ]
        }
      ],
      "source": [
        "print(classification_report(y_test, pred_1_grid))\n",
        "print(classification_report(y_test, pred_2_grid))\n",
        "print(classification_report(y_test, pred_3_grid)) #Este es el modelo con mayor accuracy"
      ]
    },
    {
      "cell_type": "code",
      "execution_count": 34,
      "metadata": {
        "id": "vPXNqDAahwLk"
      },
      "outputs": [],
      "source": [
        "bmodel = gs_clf_3.best_estimator_"
      ]
    },
    {
      "cell_type": "code",
      "execution_count": 35,
      "metadata": {
        "colab": {
          "base_uri": "https://localhost:8080/",
          "height": 165
        },
        "id": "uVwwUE9ch3N9",
        "outputId": "76401d7f-f7d7-4e64-92c8-d5b4301601eb"
      },
      "outputs": [],
      "source": [
        "pickle.dump(bmodel, open('../models/bmodel.csv', 'wb'))"
      ]
    }
  ],
  "metadata": {
    "colab": {
      "collapsed_sections": [],
      "name": "naivebayes.ipynb",
      "provenance": []
    },
    "kernelspec": {
      "display_name": "Python 3.10.5 64-bit",
      "language": "python",
      "name": "python3"
    },
    "language_info": {
      "codemirror_mode": {
        "name": "ipython",
        "version": 3
      },
      "file_extension": ".py",
      "mimetype": "text/x-python",
      "name": "python",
      "nbconvert_exporter": "python",
      "pygments_lexer": "ipython3",
      "version": "3.10.5"
    },
    "vscode": {
      "interpreter": {
        "hash": "be55531a80018631fb0dfb010073b3ec3c01ba5a90935dd3ed6089ae93a8f0c8"
      }
    }
  },
  "nbformat": 4,
  "nbformat_minor": 0
}
